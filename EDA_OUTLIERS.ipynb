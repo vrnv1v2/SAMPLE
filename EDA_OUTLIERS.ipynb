{
  "nbformat": 4,
  "nbformat_minor": 0,
  "metadata": {
    "colab": {
      "provenance": [],
      "authorship_tag": "ABX9TyPdD8NtkcmEz+GU9mar/7Pi",
      "include_colab_link": true
    },
    "kernelspec": {
      "name": "python3",
      "display_name": "Python 3"
    },
    "language_info": {
      "name": "python"
    }
  },
  "cells": [
    {
      "cell_type": "markdown",
      "metadata": {
        "id": "view-in-github",
        "colab_type": "text"
      },
      "source": [
        "<a href=\"https://colab.research.google.com/github/vrnv1v2/SAMPLE/blob/main/EDA_OUTLIERS.ipynb\" target=\"_parent\"><img src=\"https://colab.research.google.com/assets/colab-badge.svg\" alt=\"Open In Colab\"/></a>"
      ]
    },
    {
      "cell_type": "code",
      "execution_count": null,
      "metadata": {
        "colab": {
          "base_uri": "https://localhost:8080/"
        },
        "id": "8QG0Xlxccp5b",
        "outputId": "c10ee7f3-3bf9-433c-cb93-7e70a82fed97"
      },
      "outputs": [
        {
          "output_type": "stream",
          "name": "stdout",
          "text": [
            "Accuracy: 0.807909604519774\n"
          ]
        },
        {
          "output_type": "stream",
          "name": "stderr",
          "text": [
            "/usr/local/lib/python3.10/dist-packages/sklearn/linear_model/_logistic.py:458: ConvergenceWarning: lbfgs failed to converge (status=1):\n",
            "STOP: TOTAL NO. of ITERATIONS REACHED LIMIT.\n",
            "\n",
            "Increase the number of iterations (max_iter) or scale the data as shown in:\n",
            "    https://scikit-learn.org/stable/modules/preprocessing.html\n",
            "Please also refer to the documentation for alternative solver options:\n",
            "    https://scikit-learn.org/stable/modules/linear_model.html#logistic-regression\n",
            "  n_iter_i = _check_optimize_result(\n",
            "<ipython-input-49-413e2fae4889>:67: SettingWithCopyWarning: \n",
            "A value is trying to be set on a copy of a slice from a DataFrame.\n",
            "Try using .loc[row_indexer,col_indexer] = value instead\n",
            "\n",
            "See the caveats in the documentation: https://pandas.pydata.org/pandas-docs/stable/user_guide/indexing.html#returning-a-view-versus-a-copy\n",
            "  test_df['Age'] = lr_age.predict(test_df.drop(['Age', 'Survived'], axis=1))\n",
            "/usr/local/lib/python3.10/dist-packages/sklearn/linear_model/_logistic.py:458: ConvergenceWarning: lbfgs failed to converge (status=1):\n",
            "STOP: TOTAL NO. of ITERATIONS REACHED LIMIT.\n",
            "\n",
            "Increase the number of iterations (max_iter) or scale the data as shown in:\n",
            "    https://scikit-learn.org/stable/modules/preprocessing.html\n",
            "Please also refer to the documentation for alternative solver options:\n",
            "    https://scikit-learn.org/stable/modules/linear_model.html#logistic-regression\n",
            "  n_iter_i = _check_optimize_result(\n"
          ]
        }
      ],
      "source": [
        "import numpy as np\n",
        "import pandas as pd\n",
        "import matplotlib.pyplot as plt\n",
        "import seaborn as sns\n",
        "from sklearn.preprocessing import LabelEncoder\n",
        "from sklearn import metrics\n",
        "from sklearn.model_selection import train_test_split\n",
        "from sklearn.linear_model import LinearRegression,LogisticRegression\n",
        "df=pd.read_csv(\"used_cars_data.csv\")\n",
        "df2=pd.read_csv(\"Titanic-Dataset.csv\")\n",
        "\n",
        "df=df.drop([\"S.No.\",\"Owner_Type\"],axis=1)\n",
        "\n",
        "from datetime import date\n",
        "df['Car_age']=date.today().year-df.Year\n",
        "\n",
        "df['Brand']=df.Name.str.split().str.get(0)\n",
        "df[\"Model\"]=df.Name.str.split().str.get(1)\n",
        "df['Brand'].replace({\"Isuzu\":'ISUZU',\"Land\":\"Land Rover\",\"Mini\":\"Mini Cooper\"},inplace=True)\n",
        "df.describe(include='all').T\n",
        "cat_cols=df.select_dtypes(include=['object']).columns\n",
        "num_cols=df.select_dtypes(include=np.number).columns.tolist()\n",
        "\n",
        "df2.drop(['Name','Cabin','Embarked','Ticket'],axis=1,inplace=True)\n",
        "le=LabelEncoder()\n",
        "df2[\"Sex\"]=le.fit_transform(df2['Sex'])\n",
        "df2['Age']=df2['Age'].fillna(df2['Age'].median())\n",
        "\n",
        "\n",
        "# Feature engineering, label encoding, etc.\n",
        "\n",
        "# Split the data into features (X) and target variable (y)\n",
        "X = df2.drop(['Survived'], axis=1)\n",
        "y = df2['Survived']\n",
        "\n",
        "# Split the data into training and testing sets\n",
        "X_train, X_test, y_train, y_test = train_test_split(X, y, test_size=0.3, random_state=42)\n",
        "from sklearn.linear_model import LogisticRegression\n",
        "# Model training and prediction\n",
        "lr = LogisticRegression()\n",
        "lr.fit(X_train, y_train)\n",
        "pred = lr.predict(X_test)\n",
        "\n",
        "# Evaluate the model\n",
        "accuracy = metrics.accuracy_score(pred, y_test)\n",
        "\n",
        "\n",
        "df3 = pd.read_csv(\"Titanic-Dataset.csv\")\n",
        "\n",
        "df3.drop(['Name', 'Cabin', 'Embarked', 'Ticket'], axis=1, inplace=True)\n",
        "le = LabelEncoder()\n",
        "df3[\"Sex\"] = le.fit_transform(df3['Sex'])\n",
        "\n",
        "# Separate the dataset into training and testing sets for age prediction\n",
        "train_df = df3[df3['Age'].notnull()]\n",
        "test_df = df3[df3['Age'].isnull()]\n",
        "\n",
        "# Features and target variable for linear regression\n",
        "X_train_age = train_df.drop(['Age', 'Survived'], axis=1)\n",
        "y_train_age = train_df['Age']\n",
        "\n",
        "# Train a linear regression model to predict missing ages\n",
        "lr_age = LinearRegression()\n",
        "lr_age.fit(X_train_age, y_train_age)\n",
        "\n",
        "# Predict missing ages\n",
        "test_df['Age'] = lr_age.predict(test_df.drop(['Age', 'Survived'], axis=1))\n",
        "\n",
        "# Features and target variable for logistic regression\n",
        "X_train_survived = train_df.drop(['Age', 'Survived'], axis=1)\n",
        "y_train_survived = train_df['Survived']\n",
        "\n",
        "# Train a logistic regression model to predict survival\n",
        "lr_survived = LogisticRegression()\n",
        "lr_survived.fit(X_train_survived, y_train_survived)\n",
        "\n",
        "# Predict survival on the test set\n",
        "X_test_survived = test_df.drop(['Age', 'Survived'], axis=1)\n",
        "pred_survived = lr_survived.predict(X_test_survived)\n",
        "\n",
        "# Evaluate the logistic regression model\n",
        "y_test_survived = test_df['Survived']\n",
        "print(\"Accuracy:\", metrics.accuracy_score(pred_survived, y_test_survived))"
      ]
    }
  ]
}